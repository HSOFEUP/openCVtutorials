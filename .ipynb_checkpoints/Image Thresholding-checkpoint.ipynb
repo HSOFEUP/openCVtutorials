{
 "cells": [
  {
   "cell_type": "code",
   "execution_count": 7,
   "metadata": {},
   "outputs": [],
   "source": [
    "'''\n",
    "Thresholding only works with grayscale images\n",
    "cv2.threshold(image , Threshold Value , Max Value , Threshold Type)\n",
    "cv2.THRESH_BINARY - Most common thresholding\n",
    "cv2.THRESH_BINARY_INV - Another common\n",
    "'''\n",
    "\n",
    "import cv2\n",
    "import numpy as np\n",
    "\n",
    "image = cv2.imread('C:\\\\Users\\\\Zahid\\\\Desktop\\\\Deep Learning\\\\openCVtutorials\\\\input.jpg' , 0)"
   ]
  },
  {
   "cell_type": "code",
   "execution_count": 4,
   "metadata": {},
   "outputs": [],
   "source": [
    "cv2.imshow('Gray Scaled', image)\n",
    "cv2.waitKey()\n",
    "cv2.destroyAllWindows()"
   ]
  },
  {
   "cell_type": "code",
   "execution_count": 5,
   "metadata": {},
   "outputs": [],
   "source": [
    "#Values below 127 goes to 0 , above goes to 255\n",
    "ret, thresh1 = cv2.threshold(image , 127 , 255 , cv2.THRESH_BINARY)\n",
    "cv2.imshow('Threshold Binary' , thresh1)\n",
    "\n",
    "# input parameters image , threshold value , max value and type\n",
    "\n",
    "#Values below 127 got to 255 above 127 goes to 0 \n",
    "ret, thresh2 = cv2.threshold(image , 127 , 255 , cv2.THRESH_BINARY_INV)\n",
    "cv2.imshow('Threshold Inverse Binary' , thresh2)\n",
    "\n",
    "#values above 127 goes to same value 127 has.\n",
    "ret, thresh3 = cv2.threshold(image , 127 , 255 , cv2.THRESH_TRUNC)\n",
    "cv2.imshow('Threshold Truncated' , thresh3)\n",
    "\n",
    "#values below 127 goes to zero , rest remain unchanged\n",
    "ret, thresh4 = cv2.threshold(image , 127 , 255 , cv2.THRESH_TOZERO)\n",
    "cv2.imshow('Threshold ToZero' , thresh4)\n",
    "\n",
    "#values below 127 remains unchanged rest goes to zero\n",
    "ret, thresh5 = cv2.threshold(image , 127 , 255 , cv2.THRESH_TOZERO_INV)\n",
    "cv2.imshow('Threshold ToZero Inverse' , thresh5)\n",
    "\n",
    "\n",
    "cv2.waitKey()\n",
    "cv2.destroyAllWindows()"
   ]
  },
  {
   "cell_type": "code",
   "execution_count": 9,
   "metadata": {},
   "outputs": [],
   "source": [
    "#Adaptive Thresholding\n",
    "\n",
    "#adaptivethreshold parameters are image , max value , adaptive type , threshold type , block size , constant that is subratcted from mean\n",
    "thresh6 = cv2.adaptiveThreshold(image , 127 , cv2.ADAPTIVE_THRESH_MEAN_C , cv2.THRESH_BINARY , 3 , 5)\n",
    "cv2.imshow('Adaptive Mean Threshold' , thresh6) #Based on mean of neighbourhood of pixels\n",
    "\n",
    "_ , thresh7 = cv2.threshold(image , 0 , 255 , cv2.THRESH_BINARY + cv2.THRESH_OTSU)\n",
    "cv2.imshow('Otsu Thresholding' , thresh7)\n",
    "\n",
    "#Otsu looks into histogram and finds peaks and finds an optimal values to seperate peaks\n",
    "#Otsu Thresholding with Gaussian Filtering\n",
    "blur = cv2.GaussianBlur(image , (5 , 53) , 0)\n",
    "_ , thresh8 = cv2.threshold(image , 0 , 255 , cv2.THRESH_BINARY + cv2.THRESH_OTSU)\n",
    "cv2.imshow('Otsu Gaussian Thresholding' , thresh8)\n",
    "\n",
    "cv2.waitKey()\n",
    "cv2.destroyAllWindows()\n"
   ]
  },
  {
   "cell_type": "code",
   "execution_count": null,
   "metadata": {},
   "outputs": [],
   "source": []
  }
 ],
 "metadata": {
  "kernelspec": {
   "display_name": "Python 3",
   "language": "python",
   "name": "python3"
  },
  "language_info": {
   "codemirror_mode": {
    "name": "ipython",
    "version": 3
   },
   "file_extension": ".py",
   "mimetype": "text/x-python",
   "name": "python",
   "nbconvert_exporter": "python",
   "pygments_lexer": "ipython3",
   "version": "3.7.1"
  }
 },
 "nbformat": 4,
 "nbformat_minor": 2
}
