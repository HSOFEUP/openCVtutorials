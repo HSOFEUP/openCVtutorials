{
 "cells": [
  {
   "cell_type": "code",
   "execution_count": 1,
   "metadata": {},
   "outputs": [],
   "source": [
    "import cv2 \n",
    "import numpy as np\n",
    "\n",
    "image = cv2.imread('C:\\\\Users\\\\Zahid\\\\Desktop\\\\Deep Learning\\\\openCVtutorials\\\\input.jpg')\n",
    "\n",
    "height , width = image.shape[:2]"
   ]
  },
  {
   "cell_type": "code",
   "execution_count": 2,
   "metadata": {},
   "outputs": [],
   "source": [
    "#for cropping mention starting coordinates and ending coordinates and use indexing to crop out the image\n",
    "\n",
    "\n",
    "#starting coordinates\n",
    "start_row , start_col = int(height *.25) , int(width * .25) #25 % of height and width\n",
    "\n",
    "end_row , end_col = int(height * .75) , int(width * .75) #75%of height and width\n",
    "\n",
    "cropped_image = image[start_row:end_row , start_col:end_col]\n",
    "\n",
    "cv2.imshow('Original Image', image)\n",
    "cv2.imshow('Cropped Image ' , cropped_image)\n",
    "cv2.waitKey()\n",
    "cv2.destroyAllWindows()"
   ]
  },
  {
   "cell_type": "code",
   "execution_count": null,
   "metadata": {},
   "outputs": [],
   "source": []
  }
 ],
 "metadata": {
  "kernelspec": {
   "display_name": "Python 3",
   "language": "python",
   "name": "python3"
  },
  "language_info": {
   "codemirror_mode": {
    "name": "ipython",
    "version": 3
   },
   "file_extension": ".py",
   "mimetype": "text/x-python",
   "name": "python",
   "nbconvert_exporter": "python",
   "pygments_lexer": "ipython3",
   "version": "3.7.1"
  }
 },
 "nbformat": 4,
 "nbformat_minor": 2
}
