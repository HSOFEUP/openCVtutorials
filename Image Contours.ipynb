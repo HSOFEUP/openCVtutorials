{
 "cells": [
  {
   "cell_type": "code",
   "execution_count": 16,
   "metadata": {},
   "outputs": [
    {
     "data": {
      "text/plain": [
       "-1"
      ]
     },
     "execution_count": 16,
     "metadata": {},
     "output_type": "execute_result"
    }
   ],
   "source": [
    "import cv2\n",
    "import numpy as np\n",
    "\n",
    "image = cv2.imread('C:\\\\Users\\\\Zahid\\\\Desktop\\\\Deep Learning\\\\openCVtutorials\\\\input3.png')\n",
    "cv2.imshow('Original', image)\n",
    "cv2.waitKey()"
   ]
  },
  {
   "cell_type": "code",
   "execution_count": 17,
   "metadata": {},
   "outputs": [
    {
     "data": {
      "text/plain": [
       "-1"
      ]
     },
     "execution_count": 17,
     "metadata": {},
     "output_type": "execute_result"
    }
   ],
   "source": [
    "grayscaled = cv2.cvtColor(image , cv2.COLOR_BGR2GRAY)\n",
    "edges = cv2.Canny(grayscaled , 30 , 200)\n",
    "cv2.imshow('Canny' , edges)\n",
    "cv2.waitKey()"
   ]
  },
  {
   "cell_type": "code",
   "execution_count": 18,
   "metadata": {},
   "outputs": [
    {
     "name": "stdout",
     "output_type": "stream",
     "text": [
      "Number of Contours 12\n"
     ]
    }
   ],
   "source": [
    "contours , heirarchy = cv2.findContours(edges.copy() , cv2.RETR_LIST , cv2.CHAIN_APPROX_NONE)\n",
    "#findcontours() takes in image then retrieval mode and approximation mode , .copy() creates a new edge image\n",
    "cv2.imshow('Canny Edges with contouring' , edges)\n",
    "cv2.waitKey()\n",
    "\n",
    "print('Number of Contours ' + str(len(contours)))"
   ]
  },
  {
   "cell_type": "code",
   "execution_count": 19,
   "metadata": {},
   "outputs": [
    {
     "data": {
      "text/plain": [
       "-1"
      ]
     },
     "execution_count": 19,
     "metadata": {},
     "output_type": "execute_result"
    }
   ],
   "source": [
    "# -1 to draw all contours or 1 to draw first contour or 2 to draw two contours\n",
    "cv2.drawContours(image , contours , -1 ,(0 , 255 , 0) , 3)\n",
    "cv2.imshow('contours' , image)\n",
    "cv2.waitKey()"
   ]
  },
  {
   "cell_type": "code",
   "execution_count": 11,
   "metadata": {},
   "outputs": [
    {
     "data": {
      "text/plain": [
       "'\\nCHAIN_APPROX_NONE returns boundary points\\nCHAIN_APPROX_SIMPLE stores ending points\\n\\n\\nRetrieval modes talks about heirarchy\\nRETR_LIST - all contours\\nRETR_EXTERNAL - external\\nRETR_COMP - Retrieves in 2 Level Hierarchy\\nRETR_TREE - Retrieves Full Hierarchy\\n\\n'"
      ]
     },
     "execution_count": 11,
     "metadata": {},
     "output_type": "execute_result"
    }
   ],
   "source": [
    "'''\n",
    "CHAIN_APPROX_NONE returns boundary points\n",
    "CHAIN_APPROX_SIMPLE stores ending points\n",
    "\n",
    "\n",
    "Retrieval modes talks about heirarchy\n",
    "RETR_LIST - all contours\n",
    "RETR_EXTERNAL - external\n",
    "RETR_COMP - Retrieves in 2 Level Hierarchy\n",
    "RETR_TREE - Retrieves Full Hierarchy\n",
    "\n",
    "'''"
   ]
  },
  {
   "cell_type": "code",
   "execution_count": null,
   "metadata": {},
   "outputs": [],
   "source": []
  }
 ],
 "metadata": {
  "kernelspec": {
   "display_name": "Python 3",
   "language": "python",
   "name": "python3"
  },
  "language_info": {
   "codemirror_mode": {
    "name": "ipython",
    "version": 3
   },
   "file_extension": ".py",
   "mimetype": "text/x-python",
   "name": "python",
   "nbconvert_exporter": "python",
   "pygments_lexer": "ipython3",
   "version": "3.7.1"
  }
 },
 "nbformat": 4,
 "nbformat_minor": 2
}
