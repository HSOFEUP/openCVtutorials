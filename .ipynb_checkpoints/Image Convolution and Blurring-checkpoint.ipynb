{
 "cells": [
  {
   "cell_type": "code",
   "execution_count": 1,
   "metadata": {},
   "outputs": [],
   "source": [
    "import cv2\n",
    "import numpy as np\n",
    "\n",
    "image = cv2.imread('C:\\\\Users\\\\Zahid\\\\Desktop\\\\Deep Learning\\\\openCVtutorials\\\\input.jpg')"
   ]
  },
  {
   "cell_type": "code",
   "execution_count": 2,
   "metadata": {},
   "outputs": [],
   "source": [
    "#Kernels are used to normalize image and to specify a matrix to apply convolution or blurring\n",
    "\n",
    "kernel_3x3 = np.ones((3,3) , np.float32) / 9\n",
    "\n",
    "#to convolve image using opencv \n",
    "blurred = cv2.filter2D(image , -1 , kernel_3x3)\n",
    "\n",
    "\n",
    "kernel_7x7 = np.ones((7,7) , np.float32) / 49\n",
    "\n",
    "blurred1 = cv2.filter2D(image , -1 , kernel_7x7)\n",
    "\n",
    "cv2.imshow('Original', image)\n",
    "cv2.imshow('Blurred 1' , blurred)\n",
    "cv2.imshow('Blurred 2' , blurred1)\n",
    "cv2.waitKey()\n",
    "cv2.destroyAllWindows()"
   ]
  },
  {
   "cell_type": "code",
   "execution_count": 4,
   "metadata": {},
   "outputs": [],
   "source": [
    "#Other blurring techniques\n",
    "\n",
    "#averaging by convolving the image with a box filter\n",
    "#average values over a specified windows\n",
    "blur = cv2.blur(image , (3,3)) #averaging with 3x3 box filter\n",
    "\n",
    "#gaussian kernel\n",
    "#similar to a normal 1's kernel , but has more emphasis or weighting around the center\n",
    "gaussian = cv2.GaussianBlur(image , (7,7) , 0)\n",
    "\n",
    "#medianBlur\n",
    "#finding median value of each kernal , paint effect\n",
    "median = cv2.medianBlur(image , 5) #uses the median values of a box filter instead of averaging\n",
    "\n",
    "\n",
    "#bilateral effective for noise removal and to keep edges sharp\n",
    "biateral = cv2.bilateralFilter(image , 9,75,75)\n",
    "\n",
    "cv2.imshow('Averaging' ,blur)\n",
    "cv2.imshow('Gaussian', gaussian)\n",
    "cv2.imshow('Median' , median)\n",
    "cv2.imshow('Bilateral' , biateral)\n",
    "\n",
    "cv2.waitKey()\n",
    "cv2.destroyAllWindows()"
   ]
  },
  {
   "cell_type": "code",
   "execution_count": 7,
   "metadata": {},
   "outputs": [],
   "source": [
    "#Image Denoising\n",
    "\n",
    "denoising = cv2.fastNlMeansDenoisingColored(image , None , 6 , 6, 7, 21)\n",
    "\n",
    "cv2.imshow('Denoising' ,denoising)\n",
    "cv2.waitKey()\n",
    "cv2.destroyAllWindows()"
   ]
  },
  {
   "cell_type": "code",
   "execution_count": null,
   "metadata": {},
   "outputs": [],
   "source": []
  }
 ],
 "metadata": {
  "kernelspec": {
   "display_name": "Python 3",
   "language": "python",
   "name": "python3"
  },
  "language_info": {
   "codemirror_mode": {
    "name": "ipython",
    "version": 3
   },
   "file_extension": ".py",
   "mimetype": "text/x-python",
   "name": "python",
   "nbconvert_exporter": "python",
   "pygments_lexer": "ipython3",
   "version": "3.7.1"
  }
 },
 "nbformat": 4,
 "nbformat_minor": 2
}
