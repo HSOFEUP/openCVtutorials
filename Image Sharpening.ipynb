{
 "cells": [
  {
   "cell_type": "code",
   "execution_count": 1,
   "metadata": {},
   "outputs": [],
   "source": [
    "'''\n",
    "Sharpening Kernel = [ -1 -1 -1\n",
    "                      -1 9  -1 \n",
    "                      -1  -1  -1]\n",
    "\n",
    "'''\n",
    "\n",
    "import cv2\n",
    "import numpy as np"
   ]
  },
  {
   "cell_type": "code",
   "execution_count": 2,
   "metadata": {},
   "outputs": [],
   "source": [
    "image = cv2.imread('C:\\\\Users\\\\Zahid\\\\Desktop\\\\Deep Learning\\\\openCVtutorials\\\\input.jpg')\n",
    "\n",
    "sharpening_kernel = np.array([[-1 , -1 , -1],\n",
    "                             [-1 , 9 , -1],\n",
    "                             [-1 , -1 , -1]])\n",
    "\n",
    "sharpened_image = cv2.filter2D(image , -1 , sharpening_kernel)\n",
    "\n",
    "cv2.imshow('Sharpened Image' , sharpened_image)\n",
    "cv2.waitKey()\n",
    "cv2.destroyAllWindows()"
   ]
  },
  {
   "cell_type": "code",
   "execution_count": null,
   "metadata": {},
   "outputs": [],
   "source": []
  }
 ],
 "metadata": {
  "kernelspec": {
   "display_name": "Python 3",
   "language": "python",
   "name": "python3"
  },
  "language_info": {
   "codemirror_mode": {
    "name": "ipython",
    "version": 3
   },
   "file_extension": ".py",
   "mimetype": "text/x-python",
   "name": "python",
   "nbconvert_exporter": "python",
   "pygments_lexer": "ipython3",
   "version": "3.7.1"
  }
 },
 "nbformat": 4,
 "nbformat_minor": 2
}
