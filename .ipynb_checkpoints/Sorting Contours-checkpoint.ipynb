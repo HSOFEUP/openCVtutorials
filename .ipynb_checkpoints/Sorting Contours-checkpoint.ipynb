{
 "cells": [
  {
   "cell_type": "code",
   "execution_count": 2,
   "metadata": {},
   "outputs": [
    {
     "data": {
      "text/plain": [
       "-1"
      ]
     },
     "execution_count": 2,
     "metadata": {},
     "output_type": "execute_result"
    }
   ],
   "source": [
    "import cv2\n",
    "import numpy as np\n",
    "\n",
    "image = cv2.imread('C:\\\\Users\\\\Zahid\\\\Desktop\\\\Deep Learning\\\\openCVtutorials\\\\input3.png')\n",
    "cv2.imshow('Original Image', image)\n",
    "cv2.waitKey()\n",
    "\n",
    "blank_image = np.zeros((image.shape[0] , image.shape[1] , 3))\n",
    "\n",
    "original_image = image\n",
    "gray = cv2.cvtColor(image , cv2.COLOR_BGR2GRAY)\n",
    "canny = cv2.Canny(gray , 30 ,200)\n",
    "\n",
    "contours , hierarchy = cv2.findContours(canny.copy() , cv2.RETR_LIST , cv2.CHAIN_APPROX_NONE)\n",
    "cv2.imshow('Contours' , canny)\n",
    "cv2.waitKey()\n",
    "\n",
    "cv2.drawContours(image , contours , -1 , (0,255,0) , 3)\n",
    "cv2.imshow('All Contours' , image)\n",
    "cv2.waitKey()"
   ]
  },
  {
   "cell_type": "code",
   "execution_count": 7,
   "metadata": {},
   "outputs": [
    {
     "name": "stdout",
     "output_type": "stream",
     "text": [
      "Before Sorting\n",
      "[1407.0, 1453.0, 1595.0, 1597.0, 952.0, 996.0, 1658.5, 1696.5, 1158.0, 1213.0, 22258.0, 22261.0]\n",
      "After sorting\n",
      "[22261.0, 22258.0, 1696.5, 1658.5, 1597.0, 1595.0, 1453.0, 1407.0, 1213.0, 1158.0, 996.0, 952.0]\n"
     ]
    }
   ],
   "source": [
    "#sorting contours by area\n",
    "\n",
    "def get_contour_areas(contours):\n",
    "    all_areas = []\n",
    "    for cnt in contours:\n",
    "        area = cv2.contourArea(cnt) #area of contours\n",
    "        all_areas.append(area)\n",
    "    return all_areas\n",
    "\n",
    "print(\"Before Sorting\")\n",
    "print(get_contour_areas(contours))\n",
    "\n",
    "sorted_contours = sorted(contours , key = cv2.contourArea , reverse = True)\n",
    "#reverse = true means big to small , key is the function that we are passing the input to\n",
    "\n",
    "print(\"After sorting\")\n",
    "print(get_contour_areas(sorted_contours))\n",
    "\n",
    "for c in sorted_contours:\n",
    "    cv2.drawContours(original_image , [c] , -1 , (255 , 0 , 0) , 3)\n",
    "    cv2.waitKey()\n",
    "    cv2.imshow('Contour sorted' , original_image)\n",
    "    \n",
    "cv2.waitKey()\n",
    "cv2.destroyAllWindows()"
   ]
  },
  {
   "cell_type": "code",
   "execution_count": 8,
   "metadata": {},
   "outputs": [
    {
     "data": {
      "text/plain": [
       "-1"
      ]
     },
     "execution_count": 8,
     "metadata": {},
     "output_type": "execute_result"
    }
   ],
   "source": [
    "#spatial mode sorting\n",
    "\n",
    "def x_cord_contour(contours):\n",
    "    #Returning X coordinate for the contour centroid\n",
    "    if cv2.contourArea(contours) > 10:\n",
    "        M = cv2.moments(contours)\n",
    "        return (int(M['m10']/M['m00']))\n",
    "    \n",
    "def label_contour_center(image , c):\n",
    "    #place a red circle on center\n",
    "    M = cv2.moments(c) #to get center\n",
    "    cx = int(M['m10'] / M['m00'])\n",
    "    cy = int(M['m01'] / M['m00'])\n",
    "    \n",
    "    cv2.circle(image , (cx , cy) , 10 , (0 , 0 , 255) , -1)\n",
    "    return image\n",
    "\n",
    "\n",
    "for(i,c ) in enumerate(contours):\n",
    "    orig = label_contour_center(image , c)\n",
    "    \n",
    "cv2.imshow('contours center' , image)\n",
    "cv2.waitKey()"
   ]
  },
  {
   "cell_type": "code",
   "execution_count": null,
   "metadata": {},
   "outputs": [],
   "source": []
  }
 ],
 "metadata": {
  "kernelspec": {
   "display_name": "Python 3",
   "language": "python",
   "name": "python3"
  },
  "language_info": {
   "codemirror_mode": {
    "name": "ipython",
    "version": 3
   },
   "file_extension": ".py",
   "mimetype": "text/x-python",
   "name": "python",
   "nbconvert_exporter": "python",
   "pygments_lexer": "ipython3",
   "version": "3.7.1"
  }
 },
 "nbformat": 4,
 "nbformat_minor": 2
}
