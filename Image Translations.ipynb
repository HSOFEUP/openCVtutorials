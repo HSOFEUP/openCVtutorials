{
 "cells": [
  {
   "cell_type": "code",
   "execution_count": 4,
   "metadata": {},
   "outputs": [
    {
     "name": "stdout",
     "output_type": "stream",
     "text": [
      "[[  1.    0.  200. ]\n",
      " [  0.    1.  112.5]]\n"
     ]
    }
   ],
   "source": [
    "#Translation Matrix = [ 1 0 x\n",
    "#                       0 1 y]\n",
    "# x distance along x axis , y along y axis\n",
    "\n",
    "import cv2\n",
    "import numpy as np \n",
    "\n",
    "image = cv2.imread('C:\\\\Users\\\\Zahid\\\\Desktop\\\\Deep Learning\\\\openCVtutorials\\\\input.jpg')\n",
    "\n",
    "height , width = image.shape[:2] #Store height and width of image\n",
    "\n",
    "quarter_height , quarter_width = height/4 , width/4\n",
    "\n",
    "T = np.float32([[1 , 0 , quarter_width], [0 , 1, quarter_height ]])\n",
    "\n",
    "image_translated = cv2.warpAffine(image , T , (width , height))\n",
    "cv2.imshow('translated image' , image_translated)\n",
    "cv2.waitKey()\n",
    "cv2.destroyAllWindows()\n",
    "\n",
    "print(T)"
   ]
  },
  {
   "cell_type": "code",
   "execution_count": null,
   "metadata": {},
   "outputs": [],
   "source": []
  }
 ],
 "metadata": {
  "kernelspec": {
   "display_name": "Python 3",
   "language": "python",
   "name": "python3"
  },
  "language_info": {
   "codemirror_mode": {
    "name": "ipython",
    "version": 3
   },
   "file_extension": ".py",
   "mimetype": "text/x-python",
   "name": "python",
   "nbconvert_exporter": "python",
   "pygments_lexer": "ipython3",
   "version": "3.7.1"
  }
 },
 "nbformat": 4,
 "nbformat_minor": 2
}
