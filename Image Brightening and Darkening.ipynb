{
 "cells": [
  {
   "cell_type": "code",
   "execution_count": 1,
   "metadata": {},
   "outputs": [],
   "source": [
    "import cv2\n",
    "import numpy as np\n",
    "\n",
    "\n",
    "image = cv2.imread('C:\\\\Users\\\\Zahid\\\\Desktop\\\\Deep Learning\\\\openCVtutorials\\\\input.jpg')\n"
   ]
  },
  {
   "cell_type": "code",
   "execution_count": 2,
   "metadata": {},
   "outputs": [
    {
     "name": "stdout",
     "output_type": "stream",
     "text": [
      "[[[75 75 75]\n",
      "  [75 75 75]\n",
      "  [75 75 75]\n",
      "  ...\n",
      "  [75 75 75]\n",
      "  [75 75 75]\n",
      "  [75 75 75]]\n",
      "\n",
      " [[75 75 75]\n",
      "  [75 75 75]\n",
      "  [75 75 75]\n",
      "  ...\n",
      "  [75 75 75]\n",
      "  [75 75 75]\n",
      "  [75 75 75]]\n",
      "\n",
      " [[75 75 75]\n",
      "  [75 75 75]\n",
      "  [75 75 75]\n",
      "  ...\n",
      "  [75 75 75]\n",
      "  [75 75 75]\n",
      "  [75 75 75]]\n",
      "\n",
      " ...\n",
      "\n",
      " [[75 75 75]\n",
      "  [75 75 75]\n",
      "  [75 75 75]\n",
      "  ...\n",
      "  [75 75 75]\n",
      "  [75 75 75]\n",
      "  [75 75 75]]\n",
      "\n",
      " [[75 75 75]\n",
      "  [75 75 75]\n",
      "  [75 75 75]\n",
      "  ...\n",
      "  [75 75 75]\n",
      "  [75 75 75]\n",
      "  [75 75 75]]\n",
      "\n",
      " [[75 75 75]\n",
      "  [75 75 75]\n",
      "  [75 75 75]\n",
      "  ...\n",
      "  [75 75 75]\n",
      "  [75 75 75]\n",
      "  [75 75 75]]]\n"
     ]
    }
   ],
   "source": [
    "\n",
    "M = np.ones(image.shape , dtype = 'uint8') * 75\n",
    "print(M)\n",
    "#Creates a numpy array with ones of same size of the image of type integer"
   ]
  },
  {
   "cell_type": "code",
   "execution_count": 3,
   "metadata": {},
   "outputs": [],
   "source": [
    "#When we add  to our color values of our image the brightness increases\n",
    "#when we subtract the brightness decreases\n",
    "\n",
    "bright_image = cv2.add(image , M)\n",
    "dark_image = cv2.subtract(image , M)\n",
    "\n",
    "cv2.imshow('Bright' , bright_image)\n",
    "cv2.imshow('Dark' , dark_image)\n",
    "\n",
    "cv2.waitKey()\n",
    "cv2.destroyAllWindows()"
   ]
  },
  {
   "cell_type": "code",
   "execution_count": null,
   "metadata": {},
   "outputs": [],
   "source": []
  }
 ],
 "metadata": {
  "kernelspec": {
   "display_name": "Python 3",
   "language": "python",
   "name": "python3"
  },
  "language_info": {
   "codemirror_mode": {
    "name": "ipython",
    "version": 3
   },
   "file_extension": ".py",
   "mimetype": "text/x-python",
   "name": "python",
   "nbconvert_exporter": "python",
   "pygments_lexer": "ipython3",
   "version": "3.7.1"
  }
 },
 "nbformat": 4,
 "nbformat_minor": 2
}
