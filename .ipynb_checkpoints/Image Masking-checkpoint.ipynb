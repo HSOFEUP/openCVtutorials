{
 "cells": [
  {
   "cell_type": "code",
   "execution_count": 4,
   "metadata": {},
   "outputs": [],
   "source": [
    "import numpy as np\n",
    "import cv2\n",
    "\n",
    "\n",
    "#Making a Square\n",
    "\n",
    "square = np.zeros((300,300) , np.uint8) #array of zeros of height and width 300\n",
    "cv2.rectangle(square , (50,50) , (250,250) , 255 , -2)\n",
    "\n",
    "#Making a ellipse\n",
    "ellipse = np.zeros((300,300) , np.uint8)\n",
    "cv2.ellipse(ellipse , (150,150) , (150,150) , 30 , 0 , 180 , 255 , -1)\n",
    "\n",
    "cv2.imshow('Square' , square)\n",
    "cv2.imshow('Ellipse' , ellipse)\n",
    "cv2.waitKey()\n",
    "cv2.destroyAllWindows()"
   ]
  },
  {
   "cell_type": "code",
   "execution_count": 5,
   "metadata": {},
   "outputs": [],
   "source": [
    "#experimenting with some bitwise operations\n",
    "#only works on black and white images\n",
    "\n",
    "And = cv2.bitwise_and(square , ellipse) #intersection of images \n",
    "cv2.imshow('AND' , And)\n",
    "cv2.waitKey()\n",
    "\n",
    "Or = cv2.bitwise_or(square , ellipse) #combination of images\n",
    "cv2.imshow('OR' , Or)\n",
    "cv2.waitKey()\n",
    "\n",
    "Xor = cv2.bitwise_xor(square , ellipse) #combination of and and or\n",
    "cv2.imshow('XOR' , Xor)\n",
    "cv2.waitKey()\n",
    "\n",
    "\n",
    "Not = cv2.bitwise_not(square) #changes white to black of square\n",
    "cv2.imshow('NOT' , Not)\n",
    "cv2.waitKey()\n",
    "\n",
    "cv2.destroyAllWindows()"
   ]
  },
  {
   "cell_type": "code",
   "execution_count": null,
   "metadata": {},
   "outputs": [],
   "source": []
  }
 ],
 "metadata": {
  "kernelspec": {
   "display_name": "Python 3",
   "language": "python",
   "name": "python3"
  },
  "language_info": {
   "codemirror_mode": {
    "name": "ipython",
    "version": 3
   },
   "file_extension": ".py",
   "mimetype": "text/x-python",
   "name": "python",
   "nbconvert_exporter": "python",
   "pygments_lexer": "ipython3",
   "version": "3.7.1"
  }
 },
 "nbformat": 4,
 "nbformat_minor": 2
}
