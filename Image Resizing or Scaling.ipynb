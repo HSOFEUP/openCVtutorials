{
 "cells": [
  {
   "cell_type": "code",
   "execution_count": 1,
   "metadata": {},
   "outputs": [],
   "source": [
    "'''\n",
    "cv2.INTER_AREA - For shrinking or down sampling\n",
    "cv2.INTER_NEAREST - Fastest \n",
    "cv2.INTER_CUBIC - Better\n",
    "cv2.INTER_LANCZOS4 - Best\n",
    "cv2.INTER_LINEAR - Good for zooming\n",
    "'''\n",
    "\n",
    "import cv2\n",
    "import numpy as np\n",
    "\n",
    "image = cv2.imread('C:\\\\Users\\\\Zahid\\\\Desktop\\\\Deep Learning\\\\openCVtutorials\\\\input.jpg')\n",
    "\n",
    "image_scaled = cv2.resize(image , None , fx=0.75 , fy = 0.75)\n",
    "#Default cv2.resize is set to Linear Interpolation \n",
    "#Parameters  - image input , output image size , scale image factors of x scale , y scale , interpolation\n",
    "cv2.imshow('Scaling - Linear Interpolation' , image_scaled)\n",
    "cv2.waitKey()\n",
    "\n",
    "#doubling size of image\n",
    "\n",
    "image_scaled = cv2.resize(image , None , fx=2 , fy = 2 , interpolation = cv2.INTER_CUBIC)\n",
    "cv2.imshow('Scaling - Cubic Interpolation' , image_scaled)\n",
    "cv2.waitKey()\n",
    "\n",
    "#resizing by down sampling\n",
    "image_scaled = cv2.resize(image ,(900 , 400),  interpolation = cv2.INTER_AREA)\n",
    "cv2.imshow('Scaling - AREA Interpolation' , image_scaled)\n",
    "cv2.waitKey()\n",
    "\n",
    "cv2.destroyAllWindows()\n"
   ]
  },
  {
   "cell_type": "code",
   "execution_count": null,
   "metadata": {},
   "outputs": [],
   "source": []
  }
 ],
 "metadata": {
  "kernelspec": {
   "display_name": "Python 3",
   "language": "python",
   "name": "python3"
  },
  "language_info": {
   "codemirror_mode": {
    "name": "ipython",
    "version": 3
   },
   "file_extension": ".py",
   "mimetype": "text/x-python",
   "name": "python",
   "nbconvert_exporter": "python",
   "pygments_lexer": "ipython3",
   "version": "3.7.1"
  }
 },
 "nbformat": 4,
 "nbformat_minor": 2
}
