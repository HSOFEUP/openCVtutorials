{
 "cells": [
  {
   "cell_type": "code",
   "execution_count": 2,
   "metadata": {},
   "outputs": [],
   "source": [
    "import cv2\n",
    "import numpy as np\n",
    "\n",
    "#creating a black image\n",
    "image  = np.zeros((512 , 512 , 3) , np.uint8) #512 width and height with 3 rgb colors \n",
    "\n",
    "#black and white image\n",
    "image_b  = np.zeros((512 , 512 ) , np.uint8)\n",
    "\n",
    "cv2.imshow(\"Color black image\" , image)\n",
    "cv2.imshow(\"Black and white image\" , image_b)\n",
    "cv2.waitKey()\n",
    "cv2.destroyAllWindows()"
   ]
  },
  {
   "cell_type": "code",
   "execution_count": 2,
   "metadata": {},
   "outputs": [],
   "source": [
    "#creating a line over the square\n",
    "\n",
    "cv2.line(image , (0,0) , (512, 512) , (255 , 127 , 0) , 5)\n",
    "#line properties are image , start of our line , end point of our line , color of our line , thickness\n",
    "cv2.imshow('Blue Line' , image)\n",
    "cv2.waitKey()\n",
    "cv2.destroyAllWindows()"
   ]
  },
  {
   "cell_type": "code",
   "execution_count": 3,
   "metadata": {},
   "outputs": [],
   "source": [
    "#Draw a rectangle\n",
    "\n",
    "cv2.rectangle(image , (100,100) , (300,250) , (127,50,127) , 5)\n",
    "#line properties are image , start of our line , end point of our line , color of our line , thickness\n",
    "cv2.imshow('Rectangle' , image)\n",
    "cv2.waitKey()\n",
    "cv2.destroyAllWindows()"
   ]
  },
  {
   "cell_type": "code",
   "execution_count": 4,
   "metadata": {},
   "outputs": [],
   "source": [
    "cv2.rectangle(image , (100,100) , (300,250) , (127,50,127) , -1) #-1 is to fill the image\n",
    "#line properties are image , start of our line , end point of our line , color of our line , thickness\n",
    "cv2.imshow('Rectangle' , image)\n",
    "cv2.waitKey()\n",
    "cv2.destroyAllWindows()"
   ]
  },
  {
   "cell_type": "code",
   "execution_count": 6,
   "metadata": {},
   "outputs": [],
   "source": [
    "#drawing a circle\n",
    "\n",
    "cv2.circle(image , (350,350) , 100 , (127,50,127) , -1) #center of circle and radius no start and end\n",
    "#line properties are image , start of our line , end point of our line , color of our line , thickness\n",
    "cv2.imshow('Circle' , image)\n",
    "cv2.waitKey()\n",
    "cv2.destroyAllWindows()"
   ]
  },
  {
   "cell_type": "code",
   "execution_count": 7,
   "metadata": {},
   "outputs": [],
   "source": [
    "#drawing a polygon\n",
    "\n",
    "pts = np.array([[10,50] ,[200,30] , [123,24]] , np.int32) #array of points in the image\n",
    "\n",
    "pts = pts.reshape((-1 , 1 , 2))\n",
    "\n",
    "cv2.polylines(image , [pts] , True , (0,0,244) , 3) #True if image is closed or not\n",
    "cv2.imshow('Polygons' , image)\n",
    "cv2.waitKey()\n",
    "cv2.destroyAllWindows()"
   ]
  },
  {
   "cell_type": "code",
   "execution_count": 10,
   "metadata": {},
   "outputs": [],
   "source": [
    "#adding text to images\n",
    "\n",
    "\n",
    "cv2.putText(image , \"Hey dude\" , (25,200) , cv2.FONT_HERSHEY_COMPLEX , 2 ,(100,244,0) , 3)\n",
    "cv2.imshow('Text' , image)\n",
    "cv2.waitKey()\n",
    "cv2.destroyAllWindows()"
   ]
  },
  {
   "cell_type": "code",
   "execution_count": 3,
   "metadata": {},
   "outputs": [],
   "source": [
    "#Making a Square\n",
    "\n",
    "square = np.zeros((300,300) , np.uint8) #array of zeros of height and width 300\n",
    "cv2.rectangle(square , (50,50) , (250,250) , 255 , -2)\n",
    "\n",
    "#Making a ellipse\n",
    "ellipse = np.zeros((300,300) , np.uint8)\n",
    "cv2.ellipse(ellipse , (150,150) , (150,150) , 30 , 0 , 180 , 255 , -1)\n",
    "\n",
    "cv2.imshow('Square' , square)\n",
    "cv2.imshow('Ellipse' , ellipse)\n",
    "cv2.waitKey()\n",
    "cv2.destroyAllWindows()"
   ]
  },
  {
   "cell_type": "code",
   "execution_count": null,
   "metadata": {},
   "outputs": [],
   "source": []
  }
 ],
 "metadata": {
  "kernelspec": {
   "display_name": "Python 3",
   "language": "python",
   "name": "python3"
  },
  "language_info": {
   "codemirror_mode": {
    "name": "ipython",
    "version": 3
   },
   "file_extension": ".py",
   "mimetype": "text/x-python",
   "name": "python",
   "nbconvert_exporter": "python",
   "pygments_lexer": "ipython3",
   "version": "3.7.1"
  }
 },
 "nbformat": 4,
 "nbformat_minor": 2
}
