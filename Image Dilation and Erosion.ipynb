{
 "cells": [
  {
   "cell_type": "code",
   "execution_count": 12,
   "metadata": {},
   "outputs": [],
   "source": [
    "#erosion removes pixels at the boundaries\n",
    "#dilation adds pixels to the boundaries\n",
    "import cv2\n",
    "import numpy as np\n",
    "\n",
    "image = cv2.imread('C:\\\\Users\\\\Zahid\\\\Desktop\\\\Deep Learning\\\\openCVtutorials\\\\inpu1.jpg') #Read images using OpenCV"
   ]
  },
  {
   "cell_type": "code",
   "execution_count": 13,
   "metadata": {},
   "outputs": [],
   "source": [
    "kernel = np.ones((5,5) , np.uint8)\n",
    "cv2.imshow(\"Original\" , image)\n",
    "\n",
    "erosion = cv2.erode(image , kernel , iterations = 1)\n",
    "cv2.imshow(\"Erosion\" , erosion)\n",
    "\n",
    "dilation  = cv2.dilate(image , kernel , iterations  = 1)\n",
    "cv2.imshow('Dilation' , dilation)\n",
    "\n",
    "\n",
    "#Opening - GOod for removing noise - Erosion followed by diilation\n",
    "opening = cv2.morphologyEx(image , cv2.MORPH_OPEN , kernel)\n",
    "cv2.imshow('OPening', opening)\n",
    "\n",
    "\n",
    "#closing - Also good for removing noise , DIlation followed by erosion\n",
    "closing = cv2.morphologyEx(image , cv2.MORPH_CLOSE , kernel)\n",
    "cv2.imshow(\"closing\" , closing)\n",
    "\n",
    "\n",
    "cv2.waitKey()\n",
    "cv2.destroyAllWindows()"
   ]
  },
  {
   "cell_type": "code",
   "execution_count": null,
   "metadata": {},
   "outputs": [],
   "source": []
  }
 ],
 "metadata": {
  "kernelspec": {
   "display_name": "Python 3",
   "language": "python",
   "name": "python3"
  },
  "language_info": {
   "codemirror_mode": {
    "name": "ipython",
    "version": 3
   },
   "file_extension": ".py",
   "mimetype": "text/x-python",
   "name": "python",
   "nbconvert_exporter": "python",
   "pygments_lexer": "ipython3",
   "version": "3.7.1"
  }
 },
 "nbformat": 4,
 "nbformat_minor": 2
}
