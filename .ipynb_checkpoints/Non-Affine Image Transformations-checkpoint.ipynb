{
 "cells": [
  {
   "cell_type": "code",
   "execution_count": 1,
   "metadata": {},
   "outputs": [],
   "source": [
    "import cv2\n",
    "import numpy as np\n",
    "import matplotlib.pyplot as plt"
   ]
  },
  {
   "cell_type": "code",
   "execution_count": 3,
   "metadata": {},
   "outputs": [
    {
     "data": {
      "text/plain": [
       "-1"
      ]
     },
     "execution_count": 3,
     "metadata": {},
     "output_type": "execute_result"
    }
   ],
   "source": [
    "image = cv2.imread('C:\\\\Users\\\\Zahid\\\\Desktop\\\\Deep Learning\\\\openCVtutorials\\\\input.jpg')\n",
    "\n",
    "cv2.imshow('Original' , image)\n",
    "cv2.waitKey()\n",
    "\n",
    "#Coordinated of the 4 corners of the original image that need to be skewed and aligned\n",
    "points_A = np.float32([[320,14] , [70,213] , [53,134] , [24,42]])\n",
    "\n",
    "points_B = np.float32([[0,0] , [23,145] , [0,504], [56,425]])\n",
    "\n",
    "M = cv2.getPerspectiveTransform(points_A , points_B) #Transform Matrix\n",
    "\n",
    "warpped = cv2.warpPerspective(image , M , (420 , 504)) #Final size of image\n",
    "\n",
    "cv2.imshow(\"Warpped Image\" , warpped)\n",
    "cv2.waitKey()"
   ]
  },
  {
   "cell_type": "code",
   "execution_count": null,
   "metadata": {},
   "outputs": [],
   "source": []
  }
 ],
 "metadata": {
  "kernelspec": {
   "display_name": "Python 3",
   "language": "python",
   "name": "python3"
  },
  "language_info": {
   "codemirror_mode": {
    "name": "ipython",
    "version": 3
   },
   "file_extension": ".py",
   "mimetype": "text/x-python",
   "name": "python",
   "nbconvert_exporter": "python",
   "pygments_lexer": "ipython3",
   "version": "3.7.1"
  }
 },
 "nbformat": 4,
 "nbformat_minor": 2
}
