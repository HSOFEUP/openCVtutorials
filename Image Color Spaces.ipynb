{
 "cells": [
  {
   "cell_type": "code",
   "execution_count": 2,
   "metadata": {},
   "outputs": [],
   "source": [
    "'''\n",
    "HSV - \n",
    "Hue - color value(0 -179)\n",
    "Saturation - vibrancy (0-255)\n",
    "Value - brightness (0 - 255)\n",
    "\n",
    "'''\n",
    "\n",
    "#Opencv uses BGR or RGB\n",
    "\n",
    "import cv2\n",
    "import numpy as np"
   ]
  },
  {
   "cell_type": "code",
   "execution_count": 8,
   "metadata": {},
   "outputs": [
    {
     "name": "stdout",
     "output_type": "stream",
     "text": [
      "69 78 115\n",
      "92 98 135\n",
      "(450, 800, 3)\n"
     ]
    }
   ],
   "source": [
    "input = cv2.imread('C:\\\\Users\\\\Zahid\\\\Desktop\\\\Deep Learning\\\\OpenCV Tutorials\\\\input.jpg') #Read images using OpenCV\n",
    "\n",
    "B , G , R = input[0 , 0] #BGR values at the first 0,0 pixel\n",
    "print(B,G,R)\n",
    "\n",
    "B , G , R = input[10 , 12] #BGR values at the first 10,12 pixel\n",
    "print(B,G,R)\n",
    "\n",
    "print(input.shape)"
   ]
  },
  {
   "cell_type": "code",
   "execution_count": 9,
   "metadata": {},
   "outputs": [
    {
     "name": "stdout",
     "output_type": "stream",
     "text": [
      "(450, 800)\n",
      "88\n",
      "111\n"
     ]
    }
   ],
   "source": [
    "#Convert images to grayscale\n",
    "\n",
    "gray_img = cv2.cvtColor(input , cv2.COLOR_BGR2GRAY)\n",
    "print(gray_img.shape)\n",
    "\n",
    "print(gray_img[0,0])\n",
    "print(gray_img[21,42])"
   ]
  },
  {
   "cell_type": "code",
   "execution_count": 11,
   "metadata": {},
   "outputs": [],
   "source": [
    "#Convert images to HSV\n",
    "\n",
    "hsv_image = cv2.cvtColor(input , cv2.COLOR_BGR2HSV)\n",
    "\n",
    "cv2.imshow('HSV Image' , hsv_image)\n",
    "cv2.imshow('Hue Channel' , hsv_image[:,:,0]) #first two are height and width , third one is color\n",
    "cv2.imshow('Saturation Channel' , hsv_image[:,:,1])\n",
    "cv2.imshow('Value Channel' , hsv_image[:,:,2])\n",
    "cv2.waitKey()\n",
    "cv2.destroyAllWindows()"
   ]
  },
  {
   "cell_type": "code",
   "execution_count": 13,
   "metadata": {},
   "outputs": [
    {
     "name": "stdout",
     "output_type": "stream",
     "text": [
      "(450, 800, 3)\n"
     ]
    }
   ],
   "source": [
    "#individual channels in RGB image\n",
    "\n",
    "print(input.shape)\n",
    "B,G,R = cv2.split(input)\n",
    "\n",
    "cv2.imshow('Red' , R)\n",
    "cv2.imshow('Greem' , G)\n",
    "cv2.imshow('Blue' , B)\n",
    "cv2.waitKey(0)\n",
    "cv2.destroyAllWindows()\n",
    "\n",
    "merged = cv2.merge([B, G , R]) #Merge all the three channels\n",
    "cv2.imshow('Merged', merged)\n",
    "\n",
    "merged_amplified = cv2.merge([B+100 , G , R])\n",
    "cv2.imshow('Amplified' , merged_amplified)\n",
    "\n",
    "\n",
    "cv2.waitKey(0)\n",
    "cv2.destroyAllWindows()"
   ]
  },
  {
   "cell_type": "code",
   "execution_count": 17,
   "metadata": {},
   "outputs": [],
   "source": [
    " #Zero Matrix with dimensions of image \n",
    "zeros = np.zeros(input.shape[:2] , dtype = 'uint8')\n",
    "\n",
    "cv2.imshow('Red' , cv2.merge([zeros , zeros , R]))#display image with only Red \n",
    "cv2.imshow('Green'  , cv2.merge([zeros , G , zeros])) #display image with only green\n",
    "cv2.imshow('Blue' , cv2.merge([B , zeros , zeros]))\n",
    "cv2.waitKey()\n",
    "cv2.destroyAllWindows()"
   ]
  },
  {
   "cell_type": "code",
   "execution_count": null,
   "metadata": {},
   "outputs": [],
   "source": []
  }
 ],
 "metadata": {
  "kernelspec": {
   "display_name": "Python 3",
   "language": "python",
   "name": "python3"
  },
  "language_info": {
   "codemirror_mode": {
    "name": "ipython",
    "version": 3
   },
   "file_extension": ".py",
   "mimetype": "text/x-python",
   "name": "python",
   "nbconvert_exporter": "python",
   "pygments_lexer": "ipython3",
   "version": "3.7.1"
  }
 },
 "nbformat": 4,
 "nbformat_minor": 2
}
