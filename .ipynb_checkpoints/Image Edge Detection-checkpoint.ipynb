{
 "cells": [
  {
   "cell_type": "code",
   "execution_count": 7,
   "metadata": {},
   "outputs": [],
   "source": [
    "'''\n",
    "Edges are discountinuities in images\n",
    "\n",
    "Edge Detection Algorithms\n",
    "Sobel = Emphasize Verical and Horizontal\n",
    "Canny - Lowest Error Rate\n",
    "Laplacian - Gets orientations\n",
    "\n",
    "\n",
    "Canny\n",
    "1) Applies Gaussian Blurring\n",
    "2) Finds intensity gradient\n",
    "3) Removes pixels that are not edges - Non maximum suppression\n",
    "4) If pixel is within upper and threshold consider it as an edge - Hysterisis Applies thresholds\n",
    "\n",
    "'''\n",
    "\n",
    "import cv2\n",
    "import numpy as np"
   ]
  },
  {
   "cell_type": "code",
   "execution_count": 13,
   "metadata": {},
   "outputs": [
    {
     "ename": "error",
     "evalue": "OpenCV(4.0.0) c:\\projects\\opencv-python\\opencv\\modules\\imgproc\\src\\color.hpp:261: error: (-2:Unspecified error) in function '__cdecl cv::CvtHelper<struct cv::Set<1,-1,-1>,struct cv::Set<3,4,-1>,struct cv::Set<0,2,5>,2>::CvtHelper(const class cv::_InputArray &,const class cv::_OutputArray &,int)'\n> Unsupported depth of input image:\n>     'VDepth::contains(depth)'\n> where\n>     'depth' is 6 (CV_64F)\n",
     "output_type": "error",
     "traceback": [
      "\u001b[1;31m---------------------------------------------------------------------------\u001b[0m",
      "\u001b[1;31merror\u001b[0m                                     Traceback (most recent call last)",
      "\u001b[1;32m<ipython-input-13-882c5a91298b>\u001b[0m in \u001b[0;36m<module>\u001b[1;34m\u001b[0m\n\u001b[0;32m     19\u001b[0m \u001b[0msobel_NOT\u001b[0m \u001b[1;33m=\u001b[0m \u001b[0mcv2\u001b[0m\u001b[1;33m.\u001b[0m\u001b[0mbitwise_not\u001b[0m\u001b[1;33m(\u001b[0m\u001b[0msobel_x\u001b[0m\u001b[1;33m)\u001b[0m\u001b[1;33m\u001b[0m\u001b[1;33m\u001b[0m\u001b[0m\n\u001b[0;32m     20\u001b[0m \u001b[1;33m\u001b[0m\u001b[0m\n\u001b[1;32m---> 21\u001b[1;33m \u001b[0mcv2\u001b[0m\u001b[1;33m.\u001b[0m\u001b[0mimshow\u001b[0m\u001b[1;33m(\u001b[0m\u001b[1;34m'Sobel OR Image'\u001b[0m \u001b[1;33m,\u001b[0m \u001b[0msobel_OR\u001b[0m\u001b[1;33m)\u001b[0m\u001b[1;33m\u001b[0m\u001b[1;33m\u001b[0m\u001b[0m\n\u001b[0m\u001b[0;32m     22\u001b[0m \u001b[0mcv2\u001b[0m\u001b[1;33m.\u001b[0m\u001b[0mwaitKey\u001b[0m\u001b[1;33m(\u001b[0m\u001b[1;33m)\u001b[0m\u001b[1;33m\u001b[0m\u001b[1;33m\u001b[0m\u001b[0m\n\u001b[0;32m     23\u001b[0m \u001b[0mcv2\u001b[0m\u001b[1;33m.\u001b[0m\u001b[0mimshow\u001b[0m\u001b[1;33m(\u001b[0m\u001b[1;34m'Sobel And Image'\u001b[0m \u001b[1;33m,\u001b[0m \u001b[0msobel_AND\u001b[0m\u001b[1;33m)\u001b[0m\u001b[1;33m\u001b[0m\u001b[1;33m\u001b[0m\u001b[0m\n",
      "\u001b[1;31merror\u001b[0m: OpenCV(4.0.0) c:\\projects\\opencv-python\\opencv\\modules\\imgproc\\src\\color.hpp:261: error: (-2:Unspecified error) in function '__cdecl cv::CvtHelper<struct cv::Set<1,-1,-1>,struct cv::Set<3,4,-1>,struct cv::Set<0,2,5>,2>::CvtHelper(const class cv::_InputArray &,const class cv::_OutputArray &,int)'\n> Unsupported depth of input image:\n>     'VDepth::contains(depth)'\n> where\n>     'depth' is 6 (CV_64F)\n"
     ]
    }
   ],
   "source": [
    "image = cv2.imread('C:\\\\Users\\\\Zahid\\\\Desktop\\\\Deep Learning\\\\openCVtutorials\\\\input.jpg',0)\n",
    "\n",
    "height , width  = image.shape\n",
    "\n",
    "#Sobel Filter\n",
    "#Extract Sobel Edges\n",
    "sobel_x = cv2.Sobel(image , cv2.CV_64F , 0 , 1 , ksize=5) #ksize = kernel size to get different strength\n",
    "sobel_y = cv2.Sobel(image , cv2.CV_64F , 1 , 0 , ksize=5)\n",
    "\n",
    "cv2.imshow('Original Image' , image)\n",
    "cv2.waitKey(0)\n",
    "#cv2.imshow('Sobel X Image' , sobel_x)\n",
    "#cv2.waitKey(0)\n",
    "#cv2.imshow('Sobel Y Image' , sobel_y)\n",
    "#cv2.waitKey(0)\n",
    "\n",
    "sobel_OR = cv2.bitwise_or(sobel_x ,sobel_y)\n",
    "sobel_AND = cv2.bitwise_and(sobel_x , sobel_y)\n",
    "sobel_NOT = cv2.bitwise_not(sobel_x)\n",
    "\n",
    "cv2.imshow('Sobel OR Image' , sobel_OR)\n",
    "cv2.waitKey()\n",
    "cv2.imshow('Sobel And Image' , sobel_AND)\n",
    "cv2.waitKey()\n",
    "cv2.imshow('Sobel Not Image' , sobel_NOT)\n",
    "cv2.waitKey()\n",
    "\n",
    "\n",
    "#Laplacian\n",
    "laplacian = cv2.Laplacian(image , cv2.CV_64F)\n",
    "cv2.imshow('Laplacian Image' , laplacian)\n",
    "cv2.waitKey()\n",
    "\n",
    "canny = cv2.Canny(image , 20 , 170)\n",
    "cv2.imshow('Canny Image' , canny)\n",
    "\n",
    "cv2.waitKey()\n",
    "cv2.destroyAllWindows()"
   ]
  },
  {
   "cell_type": "code",
   "execution_count": null,
   "metadata": {},
   "outputs": [],
   "source": []
  },
  {
   "cell_type": "code",
   "execution_count": null,
   "metadata": {},
   "outputs": [],
   "source": []
  }
 ],
 "metadata": {
  "kernelspec": {
   "display_name": "Python 3",
   "language": "python",
   "name": "python3"
  },
  "language_info": {
   "codemirror_mode": {
    "name": "ipython",
    "version": 3
   },
   "file_extension": ".py",
   "mimetype": "text/x-python",
   "name": "python",
   "nbconvert_exporter": "python",
   "pygments_lexer": "ipython3",
   "version": "3.7.1"
  }
 },
 "nbformat": 4,
 "nbformat_minor": 2
}
