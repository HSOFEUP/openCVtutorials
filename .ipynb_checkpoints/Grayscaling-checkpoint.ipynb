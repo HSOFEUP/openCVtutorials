{
 "cells": [
  {
   "cell_type": "markdown",
   "metadata": {},
   "source": [
    "# Grayscaling"
   ]
  },
  {
   "cell_type": "code",
   "execution_count": 1,
   "metadata": {},
   "outputs": [],
   "source": [
    "import cv2"
   ]
  },
  {
   "cell_type": "code",
   "execution_count": 3,
   "metadata": {},
   "outputs": [],
   "source": [
    "input = cv2.imread('C:\\\\Users\\\\Zahid\\\\Desktop\\\\Deep Learning\\\\OpenCV Tutorials\\\\input.jpg') #Read images using OpenCV\n",
    "cv2.imshow('Color image', input)\n",
    "cv2.waitKey()\n",
    "\n",
    "#cvtColor is used to convert to grayscale\n",
    "\n",
    "gray_image = cv2.cvtColor(input , cv2.COLOR_BGR2GRAY)\n",
    "cv2.imshow('Grayscale', gray_image)\n",
    "cv2.waitKey()\n",
    "cv2.destroyAllWindows()"
   ]
  },
  {
   "cell_type": "code",
   "execution_count": 4,
   "metadata": {},
   "outputs": [],
   "source": [
    "#Faster method to convert to grayscale\n",
    "input = cv2.imread('C:\\\\Users\\\\Zahid\\\\Desktop\\\\Deep Learning\\\\OpenCV Tutorials\\\\input.jpg' , 0) #Read images using OpenCV\n",
    "cv2.imshow('Faster Grayscale', input)\n",
    "cv2.waitKey()\n",
    "cv2.destroyAllWindows()"
   ]
  },
  {
   "cell_type": "code",
   "execution_count": null,
   "metadata": {},
   "outputs": [],
   "source": []
  }
 ],
 "metadata": {
  "kernelspec": {
   "display_name": "Python 3",
   "language": "python",
   "name": "python3"
  },
  "language_info": {
   "codemirror_mode": {
    "name": "ipython",
    "version": 3
   },
   "file_extension": ".py",
   "mimetype": "text/x-python",
   "name": "python",
   "nbconvert_exporter": "python",
   "pygments_lexer": "ipython3",
   "version": "3.7.1"
  }
 },
 "nbformat": 4,
 "nbformat_minor": 2
}
