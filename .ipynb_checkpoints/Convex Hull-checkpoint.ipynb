{
 "cells": [
  {
   "cell_type": "code",
   "execution_count": 4,
   "metadata": {},
   "outputs": [],
   "source": [
    "#Smallest Polygon that can fit outside an object \n",
    "import numpy as np\n",
    "import cv2\n",
    "\n",
    "image = cv2.imread('C:\\\\Users\\\\Zahid\\\\Desktop\\\\Deep Learning\\\\openCVtutorials\\\\input3.png')\n",
    "\n",
    "gray = cv2.cvtColor(image , cv2.COLOR_BGR2GRAY)\n",
    "\n",
    "ret , thresh = cv2.threshold(gray , 175 , 255 , 0)\n",
    "\n",
    "contours , heirarchy = cv2.findContours(thresh.copy() , cv2.RETR_LIST , cv2.CHAIN_APPROX_NONE)\n",
    "\n",
    "n = len(contours) -1  #to remove largest frame contour\n",
    "contours = sorted(contours , key = cv2.contourArea , reverse = False)[:n] #index to remove outmost frame\n",
    " \n",
    "for c in contours:\n",
    "    hull = cv2.convexHull(c)\n",
    "    cv2.drawContours(image ,[hull] , 0 , (0,255 , 0) , 2)\n",
    "    cv2.imshow('hull' , image)\n",
    "\n",
    "cv2.waitKey()\n",
    "cv2.destroyAllWindows()"
   ]
  },
  {
   "cell_type": "code",
   "execution_count": null,
   "metadata": {},
   "outputs": [],
   "source": []
  }
 ],
 "metadata": {
  "kernelspec": {
   "display_name": "Python 3",
   "language": "python",
   "name": "python3"
  },
  "language_info": {
   "codemirror_mode": {
    "name": "ipython",
    "version": 3
   },
   "file_extension": ".py",
   "mimetype": "text/x-python",
   "name": "python",
   "nbconvert_exporter": "python",
   "pygments_lexer": "ipython3",
   "version": "3.7.1"
  }
 },
 "nbformat": 4,
 "nbformat_minor": 2
}
